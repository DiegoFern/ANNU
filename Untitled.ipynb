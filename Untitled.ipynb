{
 "cells": [
  {
   "cell_type": "markdown",
   "metadata": {},
   "source": [
    "# Codigos de metodos numéricos:"
   ]
  },
  {
   "cell_type": "markdown",
   "metadata": {},
   "source": []
  },
  {
   "cell_type": "code",
   "execution_count": 2,
   "metadata": {
    "collapsed": false
   },
   "outputs": [],
   "source": [
    "function [t,x]=milne4bdf5(f,intervalo,x0,N)\n",
    "h= (intervalo(2)-intervalo(1))/N;\n",
    "x(1,:)=x0;\n",
    "t=linspace(intervalo(1),intervalo(2),N+1);\n",
    "%repetimos inicializacion con runge-kutta de orden 4\n",
    "for i=1:4\n",
    "    F1=f(t(i),x(i,:))';\n",
    "    F2=f(t(i)+h/2,x(i,:)+(h/2)*F1)';\n",
    "    F3=f(t(i)+(h/2),x(i,:)+(h/2)*F2)';\n",
    "    F4=f(t(i)+h,x(i,:)+h*F3)';\n",
    "    x(i+1,:)=x(i,:)+(h/6)*(F1+2*F2+2*F3+F4);\n",
    "end\n",
    "%pasamos al metodo predictor adaptitivo con el de milne\n",
    "for i=1:3\n",
    "    f2(i,:)=f(t(i),x(i,:))';\n",
    "end\n",
    "for k=1:N-4\n",
    "     prediccion=x(k,:)+(4*h/3)*(2*f2(3,:)-f2(2,:)+2*f2(1,:));\n",
    "     x2=f(t(k+5),prediccion)';\n",
    "     %pasamos a correccion\n",
    "     x(k+5,:)=(1/137)*(60*h*x2+300*x(k+4,:)-300*x(k+3,:)+200*x(k+2,:)-75*x(k+1,:)+12*x(k,:));\n",
    "     %evaluamos otra vez\n",
    "     for j=1:2\n",
    "         f2(j,:)=f2(j+1,:);\n",
    "     end\n",
    "     f2(3,:)=f(t(k+5),x(k+5,:))';\n",
    "end\n",
    "end"
   ]
  },
  {
   "cell_type": "markdown",
   "metadata": {},
   "source": [
    "Calculamos la siguiente iteración con el método de Euler\n",
    "para poder usar la formula recursiva:\n",
    "\n",
    "$$x_{i+2}=x_{i}+\\frac{h}{2}(3 f(t_{i+1},x_{i+1})-f(t_k,x_k))$$"
   ]
  },
  {
   "cell_type": "code",
   "execution_count": 3,
   "metadata": {
    "collapsed": true
   },
   "outputs": [],
   "source": [
    "function [t,x] =mab2(f,intervalo,x0,N)\n",
    "h=(intervalo(2)-intervalo(1))/N;\n",
    "x(1,:)=x0;\n",
    "t=linspace(intervalo(1),intervalo(2),N+1);\n",
    "for i=1:2\n",
    "    %primer paso de x(i+1,:) metodo de euler\n",
    "    x(i+1,:)=x(i,:)+h*f(t(i),x(i,:))';\n",
    "end\n",
    "for k=1:N-1\n",
    "    x(k+2,:)=x(k+1,:)+(h/2)*(3*f(t(k+1),x(k+1,:))-f(t(k),x(k,:)))';\n",
    "end\n",
    "end"
   ]
  },
  {
   "cell_type": "markdown",
   "metadata": {},
   "source": [
    "Calculamos la siguiente iteración con el método de adams-bathsforth Euler mejorado\n",
    "para poder usar la formula recursiva:\n",
    "\n",
    "$$x_{i+3}=x_{i+2}+\\frac{h}{12}(23 f(t_{i+2},x_{i+2})-16 f(t_{i+1},x_{i+1})+5 f(t_i,x_i))$$"
   ]
  },
  {
   "cell_type": "code",
   "execution_count": 5,
   "metadata": {
    "collapsed": true
   },
   "outputs": [],
   "source": [
    "function [t,x] = mab3(f,intervalo,x0,N)\n",
    "%los datos son los mismos\n",
    "h= (intervalo(2)-intervalo(1))/N;\n",
    "x(1,:)=x0;\n",
    "t=linspace(intervalo(1),intervalo(2),N+1);\n",
    "for i=1:3\n",
    "    %paso primero nos pasamos en el metodo de euler mejorado\n",
    "    F1=f(t(i),x(i,:))';\n",
    "    F2=f(t(i+1),x(i,:)+h*F1)';\n",
    "    x(i+1,:)=x(i,:)+(h/2)*(F1+F2);\n",
    "end\n",
    "for k=1:N-2\n",
    "    %el tercer paso nos determina todo el metodo de adams-bathsforth de\n",
    "    %orden 3\n",
    "    x(k+3,:)=x(k+2,:)+(h/12)*(23*f(t(k+2),x(k+2,:))-16*f(t(k+1),x(k+1,:))+5*f(t(k),x(k,:)))';\n",
    "end\n",
    "end"
   ]
  },
  {
   "cell_type": "markdown",
   "metadata": {},
   "source": [
    "Calculamos la siguiente iteración con el método de adams-bathsforth Euler mejorado\n",
    "para poder usar la formula recursiva:\n",
    "$$x_{i+4}=x_{i+3}+\\frac{h}{24} (55 f(t_{i+3},x_{i+3})+37 f(t_{k+1},x_{k+1})-9f(t_k,x{k})) $$"
   ]
  },
  {
   "cell_type": "code",
   "execution_count": null,
   "metadata": {
    "collapsed": true
   },
   "outputs": [],
   "source": [
    "function [t,x] = mab4(f,intervalo,x0,N)\n",
    "h= (intervalo(2)-intervalo(1))/N;\n",
    "x(1,:)=x0;\n",
    "t=linspace(intervalo(1),intervalo(2),N+1);\n",
    "for i=1:3\n",
    "    %paso primero nos pasamos en el metodo de euler mejorado\n",
    "    F1=f(t(i),x(i,:))';\n",
    "    F2=f(t(i+1),x(i,:)+h*F1)';\n",
    "    x(i+1,:)=x(i,:)+(h/2)*(F1+F2);\n",
    "end\n",
    "for k=1:N-3\n",
    "    x(k+4,:)=x(k+3,:)+(h/24)*(55*f(t(k+3),x(k+3,:))+37*f(t(k+1),x(k+1,:))-9*f(t(k),x(k,:)))';\n",
    "end\n",
    "end"
   ]
  },
  {
   "cell_type": "code",
   "execution_count": 6,
   "metadata": {
    "collapsed": true
   },
   "outputs": [],
   "source": [
    "function [t,x] = mab5(f,intervalo,x0,N)\n",
    "%Primera parte; datos yprimer paso del metdodo de runge-kutta de orden 4\n",
    "h=(intervalo(2)-intervalo(1))/N;\n",
    "x(1,:)=x0;\n",
    "t=linspace(intervalo(1),intervalo(2),N+1);\n",
    "for i=1:4\n",
    "    F1=f(t(i),x(i,:))';\n",
    "    F2=f(t(i)+h/2,x(i,:)+(h/2)*F1)';\n",
    "    F3=f(t(i)+(h/2),x(i,:)+(h/2)*F2)';\n",
    "    F4=f(t(i)+h,x(i,:)+h*F3)';\n",
    "    x(i+1,:)=x(i,:)+(h/6)*(F1+2*F2+2*F3+F4);\n",
    "end\n",
    "for k=1:N-4\n",
    "    x(k+5,:)=x(k+4,:)+(h/720)*(1901*f(t(k+4),x(k+4,:))-2774*f(t(k+3), x(k+3,:))+2616*f(t(k+2),x(k+2,:))-1274*f(t(k+1), x(k+1,:))+251*f(t(k),x(k,:)))';\n",
    "end\n",
    "end"
   ]
  },
  {
   "cell_type": "code",
   "execution_count": 7,
   "metadata": {
    "collapsed": true
   },
   "outputs": [],
   "source": [
    "function [t,x] = mmilne(f,intervalo,x0,N)\n",
    "h=(intervalo(2)-intervalo(1))/N;\n",
    "x(1,:)=x0;\n",
    "t=linspace(intervalo(1),intervalo(2),N+1);\n",
    "%primer bucle metodo monopaso runge-kutta de orden 3;\n",
    "for i=1:3\n",
    "    F1=f(t(i),x(i,:))';\n",
    "    F2=f(t(i)+h/2,x(i,:)+(h/2)*F1)';\n",
    "    F3=f(t(i)+(3*h/4),x(:,i)+(3*h/4)*F2)';\n",
    "    x(i+1,:)=x(i,:)+(h/9)*(2*F1+3*F2+4*F3);\n",
    "end\n",
    "for k=1:N-3\n",
    "    x(k+4,:)=x(k,:)+(4*h/3)*(2*f(t(k+3),x(k+3,:))-f(t(k+2),x(k+2,:))+2*f(t(k+1),x(k+1,:)))';\n",
    "end\n",
    "end"
   ]
  },
  {
   "cell_type": "code",
   "execution_count": 9,
   "metadata": {
    "collapsed": false
   },
   "outputs": [
    {
     "name": "stdout",
     "output_type": "stream",
     "text": [
      "a =\n",
      "\n",
      "   1   2   3\n",
      "\n"
     ]
    }
   ],
   "source": [
    "a=[1,2,3]"
   ]
  },
  {
   "cell_type": "code",
   "execution_count": 10,
   "metadata": {
    "collapsed": false
   },
   "outputs": [
    {
     "name": "stdout",
     "output_type": "stream",
     "text": [
      "ans =\n",
      "\n",
      "   1\n",
      "   2\n",
      "   3\n",
      "\n"
     ]
    }
   ],
   "source": [
    "a'"
   ]
  },
  {
   "cell_type": "code",
   "execution_count": 11,
   "metadata": {
    "collapsed": false
   },
   "outputs": [
    {
     "name": "stdout",
     "output_type": "stream",
     "text": [
      "error: @x: no function and no method found\n",
      "error: invalid base value in colon expression\n"
     ]
    }
   ],
   "source": [
    "function [x]=f(x0,t)\n",
    "    x=2"
   ]
  },
  {
   "cell_type": "code",
   "execution_count": null,
   "metadata": {
    "collapsed": true
   },
   "outputs": [],
   "source": []
  }
 ],
 "metadata": {
  "kernelspec": {
   "display_name": "Octave",
   "language": "octave",
   "name": "octave"
  },
  "language_info": {
   "file_extension": ".m",
   "help_links": [
    {
     "text": "GNU Octave",
     "url": "https://www.gnu.org/software/octave/support.html"
    },
    {
     "text": "Octave Kernel",
     "url": "https://github.com/Calysto/octave_kernel"
    },
    {
     "text": "MetaKernel Magics",
     "url": "https://github.com/calysto/metakernel/blob/master/metakernel/magics/README.md"
    }
   ],
   "mimetype": "text/x-octave",
   "name": "octave",
   "version": "3.8.1"
  }
 },
 "nbformat": 4,
 "nbformat_minor": 2
}
